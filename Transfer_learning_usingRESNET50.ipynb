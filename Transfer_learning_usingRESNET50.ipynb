{
 "cells": [
  {
   "cell_type": "code",
   "execution_count": 1,
   "id": "82e44128",
   "metadata": {},
   "outputs": [],
   "source": [
    "import matplotlib.pyplot as plt\n",
    "import numpy as np\n",
    "import os"
   ]
  },
  {
   "cell_type": "code",
   "execution_count": 2,
   "id": "1033a0d7",
   "metadata": {},
   "outputs": [],
   "source": [
    "import tensorflow as tf"
   ]
  },
  {
   "cell_type": "code",
   "execution_count": 3,
   "id": "2b868223",
   "metadata": {},
   "outputs": [],
   "source": [
    "from tensorflow import keras\n",
    "from tensorflow.keras import layers"
   ]
  },
  {
   "cell_type": "code",
   "execution_count": 4,
   "id": "63ee18c3",
   "metadata": {},
   "outputs": [],
   "source": [
    "from tensorflow.python.keras.layers import Dense, Flatten\n",
    "from tensorflow.keras.models import Sequential\n",
    "from tensorflow.keras.optimizers import Adam"
   ]
  },
  {
   "cell_type": "code",
   "execution_count": 5,
   "id": "9de92db1",
   "metadata": {},
   "outputs": [],
   "source": [
    "train_dir = \"C:\\\\Users\\\\kshas\\\\Downloads\\\\archive\\\\train\"\n",
    "test_dir = \"C:\\\\Users\\\\kshas\\\\Downloads\\\\archive\\\\test\""
   ]
  },
  {
   "cell_type": "code",
   "execution_count": 6,
   "id": "736bc69f",
   "metadata": {},
   "outputs": [],
   "source": [
    "from tensorflow.keras.preprocessing.image import ImageDataGenerator\n",
    "from tensorflow.keras.applications.resnet50 import ResNet50, preprocess_input\n",
    "from tensorflow.keras.models import Sequential\n",
    "from tensorflow.keras.layers import Dense, GlobalAveragePooling2D\n"
   ]
  },
  {
   "cell_type": "code",
   "execution_count": 7,
   "id": "4e1a57cd",
   "metadata": {},
   "outputs": [],
   "source": [
    "from tensorflow.keras.preprocessing.image import ImageDataGenerator\n",
    "from tensorflow.keras.applications.resnet50 import preprocess_input"
   ]
  },
  {
   "cell_type": "code",
   "execution_count": 8,
   "id": "10f05da6",
   "metadata": {},
   "outputs": [],
   "source": [
    "IMG_SIZE = 224\n",
    "BATCH_SIZE = 32\n",
    "EPOCHS = 5\n",
    "TRAIN_DIR = train_dir"
   ]
  },
  {
   "cell_type": "code",
   "execution_count": 9,
   "id": "23911415",
   "metadata": {},
   "outputs": [],
   "source": [
    "base_model = ResNet50(weights='imagenet', include_top=False, input_shape=(IMG_SIZE, IMG_SIZE, 3))"
   ]
  },
  {
   "cell_type": "code",
   "execution_count": 10,
   "id": "55127af3",
   "metadata": {},
   "outputs": [],
   "source": [
    "resnet_model = Sequential()\n",
    "\n",
    "pretrained_model= tf.keras.applications.ResNet50(include_top=False,\n",
    "                   input_shape=(IMG_SIZE,IMG_SIZE,3),\n",
    "                   pooling='avg',classes=2,\n",
    "                   weights='imagenet')\n",
    "for layer in pretrained_model.layers:\n",
    "        layer.trainable=False\n",
    "\n",
    "resnet_model.add(pretrained_model)\n",
    "resnet_model.add(Flatten())\n",
    "resnet_model.add(Dense(512, activation='relu'))\n",
    "resnet_model.add(Dense(2, activation='softmax'))"
   ]
  },
  {
   "cell_type": "code",
   "execution_count": 11,
   "id": "8dc48de3",
   "metadata": {},
   "outputs": [
    {
     "name": "stdout",
     "output_type": "stream",
     "text": [
      "Model: \"sequential\"\n",
      "_________________________________________________________________\n",
      " Layer (type)                Output Shape              Param #   \n",
      "=================================================================\n",
      " resnet50 (Functional)       (None, 2048)              23587712  \n",
      "                                                                 \n",
      " module_wrapper (ModuleWrap  (None, 2048)              0         \n",
      " per)                                                            \n",
      "                                                                 \n",
      " dense (Dense)               (None, 512)               1049088   \n",
      "                                                                 \n",
      " dense_1 (Dense)             (None, 2)                 1026      \n",
      "                                                                 \n",
      "=================================================================\n",
      "Total params: 24637826 (93.99 MB)\n",
      "Trainable params: 1050114 (4.01 MB)\n",
      "Non-trainable params: 23587712 (89.98 MB)\n",
      "_________________________________________________________________\n"
     ]
    }
   ],
   "source": [
    "\n",
    "resnet_model.summary()"
   ]
  },
  {
   "cell_type": "code",
   "execution_count": 12,
   "id": "7be607ca",
   "metadata": {},
   "outputs": [
    {
     "name": "stderr",
     "output_type": "stream",
     "text": [
      "WARNING:absl:`lr` is deprecated in Keras optimizer, please use `learning_rate` or use the legacy optimizer, e.g.,tf.keras.optimizers.legacy.Adam.\n"
     ]
    }
   ],
   "source": [
    "resnet_model.compile(optimizer=Adam(lr=0.001),loss='categorical_crossentropy',metrics=['accuracy'])"
   ]
  },
  {
   "cell_type": "code",
   "execution_count": 13,
   "id": "7b2648d3",
   "metadata": {},
   "outputs": [],
   "source": [
    "# Setup the ImageDataGenerators\n",
    "datagen = ImageDataGenerator(\n",
    "    preprocessing_function=preprocess_input,  # ResNet50 preprocessing\n",
    "    validation_split=0.2,  # Use 20% of the data for validation\n",
    "    # Add more data augmentation settings here if desired\n",
    ")\n"
   ]
  },
  {
   "cell_type": "code",
   "execution_count": 14,
   "id": "86942d04",
   "metadata": {},
   "outputs": [
    {
     "name": "stdout",
     "output_type": "stream",
     "text": [
      "Found 447 images belonging to 2 classes.\n"
     ]
    }
   ],
   "source": [
    "train_gen = datagen.flow_from_directory(\n",
    "    TRAIN_DIR,\n",
    "    target_size=(IMG_SIZE, IMG_SIZE),\n",
    "    batch_size=BATCH_SIZE,\n",
    "    class_mode='categorical',\n",
    "    subset='training',  # This fetches the training subset\n",
    ")"
   ]
  },
  {
   "cell_type": "code",
   "execution_count": 15,
   "id": "14c626fc",
   "metadata": {},
   "outputs": [
    {
     "name": "stdout",
     "output_type": "stream",
     "text": [
      "Found 110 images belonging to 2 classes.\n"
     ]
    }
   ],
   "source": [
    "# Validation data generator\n",
    "val_gen = datagen.flow_from_directory(\n",
    "    TRAIN_DIR,\n",
    "    target_size=(IMG_SIZE, IMG_SIZE),\n",
    "    batch_size=BATCH_SIZE,\n",
    "    class_mode='categorical',\n",
    "    subset='validation',  # This fetches the validation subset\n",
    ")"
   ]
  },
  {
   "cell_type": "code",
   "execution_count": 16,
   "id": "390b62d6",
   "metadata": {},
   "outputs": [
    {
     "name": "stdout",
     "output_type": "stream",
     "text": [
      "Epoch 1/5\n",
      "14/14 [==============================] - 68s 4s/step - loss: 0.7849 - accuracy: 0.7696 - val_loss: 0.1974 - val_accuracy: 0.9182\n",
      "Epoch 2/5\n",
      "14/14 [==============================] - 56s 4s/step - loss: 0.1064 - accuracy: 0.9620 - val_loss: 0.1339 - val_accuracy: 0.9545\n",
      "Epoch 3/5\n",
      "14/14 [==============================] - 56s 4s/step - loss: 0.0320 - accuracy: 0.9888 - val_loss: 0.0610 - val_accuracy: 0.9727\n",
      "Epoch 4/5\n",
      "14/14 [==============================] - 55s 4s/step - loss: 0.0178 - accuracy: 0.9955 - val_loss: 0.0863 - val_accuracy: 0.9727\n",
      "Epoch 5/5\n",
      "14/14 [==============================] - 55s 4s/step - loss: 0.0058 - accuracy: 1.0000 - val_loss: 0.0838 - val_accuracy: 0.9727\n"
     ]
    }
   ],
   "source": [
    "history = resnet_model.fit(\n",
    "    train_gen,\n",
    "    validation_data=val_gen,\n",
    "    epochs=EPOCHS\n",
    ")"
   ]
  },
  {
   "cell_type": "code",
   "execution_count": 17,
   "id": "2c7bd960",
   "metadata": {},
   "outputs": [
    {
     "data": {
      "image/png": "[encoded data removed]",
      "text/plain": [
       "<Figure size 432x288 with 1 Axes>"
      ]
     },
     "metadata": {
      "needs_background": "light"
     },
     "output_type": "display_data"
    }
   ],
   "source": [
    "\n",
    "fig1 = plt.gcf()\n",
    "plt.plot(history.history['accuracy'])\n",
    "plt.plot(history.history['val_accuracy'])\n",
    "plt.axis(ymin=0.4,ymax=1)\n",
    "plt.grid()\n",
    "plt.title('Model Accuracy')\n",
    "plt.ylabel('Accuracy')\n",
    "plt.xlabel('Epochs')\n",
    "plt.legend(['train', 'validation'])\n",
    "plt.show()\n",
    "     "
   ]
  },
  {
   "cell_type": "code",
   "execution_count": 18,
   "id": "8086cd2a",
   "metadata": {},
   "outputs": [
    {
     "data": {
      "image/png": "[encoded data removed]",
      "text/plain": [
       "<Figure size 432x288 with 1 Axes>"
      ]
     },
     "metadata": {
      "needs_background": "light"
     },
     "output_type": "display_data"
    }
   ],
   "source": [
    "\n",
    "plt.plot(history.history['loss'])\n",
    "plt.plot(history.history['val_loss'])\n",
    "plt.grid()\n",
    "plt.title('Model Loss')\n",
    "plt.ylabel('Loss')\n",
    "plt.xlabel('Epochs')\n",
    "plt.legend(['train', 'validation'])\n",
    "plt.show()\n",
    "     "
   ]
  },
  {
   "cell_type": "code",
   "execution_count": 19,
   "id": "757ad2ca",
   "metadata": {},
   "outputs": [
    {
     "name": "stdout",
     "output_type": "stream",
     "text": [
      "Found 140 images belonging to 2 classes.\n"
     ]
    }
   ],
   "source": [
    "from tensorflow.keras.preprocessing.image import ImageDataGenerator\n",
    "from tensorflow.keras.applications.resnet50 import preprocess_input\n",
    "\n",
    "TEST_DIR =  \"C:\\\\Users\\\\kshas\\\\Downloads\\\\archive\\\\test\" \n",
    "\n",
    "# Image data generator for the test set\n",
    "test_datagen = ImageDataGenerator(preprocessing_function=preprocess_input)\n",
    "\n",
    "# Test data generator\n",
    "test_gen = test_datagen.flow_from_directory(\n",
    "    TEST_DIR,\n",
    "    target_size=(IMG_SIZE, IMG_SIZE),\n",
    "    batch_size=BATCH_SIZE,\n",
    "    class_mode='categorical',\n",
    "    shuffle=False\n",
    ")\n"
   ]
  },
  {
   "cell_type": "code",
   "execution_count": 20,
   "id": "81562739",
   "metadata": {},
   "outputs": [
    {
     "name": "stdout",
     "output_type": "stream",
     "text": [
      "5/5 [==============================] - 18s 3s/step\n",
      "Accuracy: 0.9428571428571428\n",
      "\n",
      "               precision    recall  f1-score   support\n",
      "\n",
      "        cats       1.00      0.89      0.94        70\n",
      "        dogs       0.90      1.00      0.95        70\n",
      "\n",
      "    accuracy                           0.94       140\n",
      "   macro avg       0.95      0.94      0.94       140\n",
      "weighted avg       0.95      0.94      0.94       140\n",
      "\n"
     ]
    }
   ],
   "source": [
    "from sklearn.metrics import classification_report, accuracy_score\n",
    "import numpy as np\n",
    "\n",
    "# Get true class labels\n",
    "y_true = test_gen.classes\n",
    "\n",
    "# Predict class probabilities\n",
    "y_pred_probs = resnet_model.predict(test_gen)\n",
    "\n",
    "# Convert probabilities to class labels\n",
    "y_pred = np.argmax(y_pred_probs, axis=1)\n",
    "\n",
    "# Calculate accuracy\n",
    "accuracy = accuracy_score(y_true, y_pred)\n",
    "\n",
    "# Print classification report to get precision, recall, and f1-score\n",
    "report = classification_report(y_true, y_pred, target_names=test_gen.class_indices.keys())\n",
    "\n",
    "print(\"Accuracy:\", accuracy)\n",
    "print(\"\\n\", report)\n"
   ]
  },
  {
   "cell_type": "code",
   "execution_count": 21,
   "id": "ddff5ee1",
   "metadata": {},
   "outputs": [
    {
     "name": "stdout",
     "output_type": "stream",
     "text": [
      "1/1 [==============================] - 2s 2s/step\n",
      "dogs\n"
     ]
    }
   ],
   "source": [
    "from tensorflow.keras.preprocessing import image\n",
    "from tensorflow.keras.applications.resnet50 import preprocess_input\n",
    "\n",
    "def predict_single_image(model, image_path):\n",
    "    # Load the image and resize to the default input size for ResNet50\n",
    "    img = image.load_img(image_path, target_size=(IMG_SIZE, IMG_SIZE))\n",
    "    \n",
    "    # Convert the PIL Image to a numpy array\n",
    "    img_array = image.img_to_array(img)\n",
    "    \n",
    "    # Expand dimensions to match the shape that the model expects\n",
    "    img_batch = np.expand_dims(img_array, axis=0)\n",
    "    \n",
    "    # Preprocess the image\n",
    "    img_preprocessed = preprocess_input(img_batch)\n",
    "    \n",
    "    # Get model predictions for the image\n",
    "    predictions = model.predict(img_preprocessed)\n",
    "    \n",
    "    # Get the class with highest probability\n",
    "    predicted_class_idx = np.argmax(predictions[0])\n",
    "    \n",
    "    # Convert the index to the corresponding class label\n",
    "    labels = list(test_gen.class_indices.keys())  # Assuming 'test_gen' is in scope\n",
    "    predicted_class = labels[predicted_class_idx]\n",
    "    \n",
    "    return predicted_class\n",
    "\n",
    "\n",
    "image_path = \"C:\\\\Users\\\\kshas\\\\Downloads\\\\archive\\\\test\\\\dogs\\\\dog_59.jpg\"\n",
    "print(predict_single_image(resnet_model, image_path))\n"
   ]
  },
  {
   "cell_type": "code",
   "execution_count": null,
   "id": "a88f23e3",
   "metadata": {},
   "outputs": [],
   "source": []
  }
 ],
 "metadata": {
  "kernelspec": {
   "display_name": "Python 3",
   "language": "python",
   "name": "python3"
  },
  "language_info": {
   "codemirror_mode": {
    "name": "ipython",
    "version": 3
   },
   "file_extension": ".py",
   "mimetype": "text/x-python",
   "name": "python",
   "nbconvert_exporter": "python",
   "pygments_lexer": "ipython3",
   "version": "3.8.8"
  }
 },
 "nbformat": 4,
 "nbformat_minor": 5
}
